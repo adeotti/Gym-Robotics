{
 "cells": [
  {
   "cell_type": "code",
   "execution_count": null,
   "id": "3a58af30",
   "metadata": {},
   "outputs": [],
   "source": [
    "\"\"\"\n",
    "!pip install gymnasium==1.1.1\n",
    "!pip install gymnasium-robotics==1.3.1\n",
    "!pip install numpy==1.25.2\n",
    "!pip install torch==2.7.0\n",
    "\"\"\""
   ]
  },
  {
   "cell_type": "code",
   "execution_count": null,
   "id": "b5b82dd8",
   "metadata": {},
   "outputs": [],
   "source": [
    "import gymnasium as gym\n",
    "from gymnasium.spaces import Box,Dict\n",
    "from gymnasium.vector import AsyncVectorEnv,SyncVectorEnv\n",
    "import gymnasium_robotics\n",
    "gym.register_envs(gymnasium_robotics)\n",
    "\n",
    "import numpy as np\n",
    "import torch\n",
    "import torch.nn as nn\n",
    "import torch.nn.functional as F\n",
    "import sys\n",
    "from dataclasses import dataclass"
   ]
  },
  {
   "cell_type": "code",
   "execution_count": null,
   "id": "d29e557b",
   "metadata": {},
   "outputs": [],
   "source": [
    "@dataclass\n",
    "class Hypers:\n",
    "    num_env : int = 1\n",
    "\n",
    "hypers = Hypers()"
   ]
  },
  {
   "cell_type": "code",
   "execution_count": null,
   "id": "dafb8960",
   "metadata": {},
   "outputs": [],
   "source": [
    "class FetchReachCustom(gym.Wrapper):\n",
    "    def __init__(self,env : gym.Env):\n",
    "        super().__init__(env)\n",
    "        self.action_space = Box(-1,1,(3,),np.float32)\n",
    "        self.observation_space = Dict(\n",
    "            {\n",
    "            \"observation\" : Box(-np.inf,np.inf,(3,),np.float64),\n",
    "            \"achieved_goal\" : Box(-np.inf,np.inf,(3,),np.float64),\n",
    "            \"desired_goal\" : Box(-np.inf,np.inf,(3,),np.float64)\n",
    "            }\n",
    "        )\n",
    "    \n",
    "    def process_obs(self,observation):\n",
    "        observation[\"observation\"] = observation[\"observation\"][:3]\n",
    "        return observation\n",
    "         \n",
    "    def step(self, action):\n",
    "        observation, reward, done,truncated, info = self.env.step(action)\n",
    "        return  self.process_obs(observation), reward, done,truncated, info\n",
    "    \n",
    "    def reset(self,seed=None, options=None):\n",
    "        observation,info = self.env.reset(seed=seed,options=options)\n",
    "        return self.process_obs(observation),info\n",
    "\n",
    "\n",
    "def tranform_observation(observation_dict : gym.spaces.Dict): # -> torch.Size([6])\n",
    "    observation = observation_dict.get(\"observation\")\n",
    "    target = observation_dict.get(\"achieved_goal\")\n",
    "    assert observation.shape == target.shape\n",
    "    output = np.concatenate((observation,target),axis=-1)\n",
    "    return torch.from_numpy(output).to(torch.float32)\n",
    "\n",
    "def sync_env():\n",
    "    def make_env():\n",
    "        x = gym.make(\"FetchReach-v3\")\n",
    "        x = FetchReachCustom(x)\n",
    "        return x\n",
    "    return SyncVectorEnv([make_env for _ in range(hypers.num_env)])"
   ]
  },
  {
   "cell_type": "code",
   "execution_count": null,
   "id": "e6fee667",
   "metadata": {},
   "outputs": [],
   "source": [
    "class Actor(nn.Module):\n",
    "    def __init__(self):\n",
    "        super().__init__()\n",
    "        pass\n",
    "\n",
    "\n",
    "class Critic(nn.Module):\n",
    "    def __init__(self):\n",
    "        super().__init__()\n",
    "        pass\n",
    "    "
   ]
  }
 ],
 "metadata": {
  "kernelspec": {
   "display_name": "Python 3",
   "language": "python",
   "name": "python3"
  },
  "language_info": {
   "codemirror_mode": {
    "name": "ipython",
    "version": 3
   },
   "file_extension": ".py",
   "mimetype": "text/x-python",
   "name": "python",
   "nbconvert_exporter": "python",
   "pygments_lexer": "ipython3",
   "version": "3.10.11"
  }
 },
 "nbformat": 4,
 "nbformat_minor": 5
}
